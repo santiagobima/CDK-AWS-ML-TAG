{
 "cells": [
  {
   "cell_type": "code",
   "execution_count": 17,
   "metadata": {},
   "outputs": [],
   "source": [
    "import os\n",
    "import sagemaker\n",
    "from sagemaker.workflow.pipeline import Pipeline\n",
    "from sagemaker.workflow.pipeline_context import LocalPipelineSession\n",
    "from IPython.display import display\n"
   ]
  },
  {
   "cell_type": "code",
   "execution_count": 18,
   "metadata": {},
   "outputs": [],
   "source": [
    "os.chdir(\"/Users/santiago.bima/Documents/Proyectos/TAG projects/CDK-AWS-ML-TAG\")"
   ]
  },
  {
   "cell_type": "code",
   "execution_count": 19,
   "metadata": {},
   "outputs": [
    {
     "name": "stderr",
     "output_type": "stream",
     "text": [
      "INFO:botocore.credentials:Found credentials in shared credentials file: ~/.aws/credentials\n"
     ]
    }
   ],
   "source": [
    "pipeline_name = \"example-pipeline\"\n",
    "default_bucket = os.getenv(\"DATA_BUCKET\")\n",
    "session = LocalPipelineSession(default_bucket=default_bucket)"
   ]
  },
  {
   "cell_type": "code",
   "execution_count": 20,
   "metadata": {},
   "outputs": [],
   "source": [
    "# Confirmación del pipeline (Omitir 'describe' en local para evitar error)\n",
    "pipeline = Pipeline(name=pipeline_name, sagemaker_session=session)\n",
    "# display(pipeline.describe())  # Comentado para evitar error en local"
   ]
  },
  {
   "cell_type": "code",
   "execution_count": 21,
   "metadata": {},
   "outputs": [
    {
     "name": "stdout",
     "output_type": "stream",
     "text": [
      "Ejecutando cálculo del pipeline 'example-pipeline' en local...\n"
     ]
    }
   ],
   "source": [
    "# Ejecución de los scripts de procesamiento en local\n",
    "print(f\"Ejecutando cálculo del pipeline '{pipeline_name}' en local...\")"
   ]
  },
  {
   "cell_type": "code",
   "execution_count": 22,
   "metadata": {},
   "outputs": [
    {
     "name": "stdout",
     "output_type": "stream",
     "text": [
      "Ejecutando comando: python3 pipelines/sources/lead_conversion/evaluate.py --config_parameter 'Cloud Developer' --name 'Santiago' --output_s3_uri 's3://tag-dl-sandbox-data/output-data' --local_mode\n",
      "Hello Cloud Developer!\n",
      "Archivo guardado en s3://tag-dl-sandbox-data/output-data/log.txt en S3.\n"
     ]
    },
    {
     "data": {
      "text/plain": [
       "0"
      ]
     },
     "execution_count": 22,
     "metadata": {},
     "output_type": "execute_result"
    }
   ],
   "source": [
    "# Comando para ejecutar el script principal del pipeline\n",
    "evaluate_command = (\n",
    "    \"python3 pipelines/sources/lead_conversion/evaluate.py \"\n",
    "    \"--config_parameter 'Cloud Developer' \"\n",
    "    \"--name 'Santiago' \"\n",
    "    \"--output_s3_uri 's3://tag-dl-sandbox-data/output-data' \"\n",
    "    \"--local_mode\"  # Indica al script que está en modo local\n",
    ")\n",
    "print(f\"Ejecutando comando: {evaluate_command}\")\n",
    "os.system(evaluate_command)"
   ]
  },
  {
   "cell_type": "code",
   "execution_count": 23,
   "metadata": {},
   "outputs": [
    {
     "name": "stdout",
     "output_type": "stream",
     "text": [
      "Ejecutando comando: python3 pipelines/sources/lead_conversion/simple_step.py\n",
      "Executing local processing step...\n",
      "This step doesn't require S3 inputs or outputs.\n",
      "Processing step 2 completed successfully!\n",
      "Ejecución local del cálculo completada. Los datos de entrada y salida están en S3.\n"
     ]
    }
   ],
   "source": [
    "# Comando para ejecutar el siguiente paso\n",
    "simple_step_command = \"python3 pipelines/sources/lead_conversion/simple_step.py\"\n",
    "print(f\"Ejecutando comando: {simple_step_command}\")\n",
    "os.system(simple_step_command)\n",
    "\n",
    "print(\"Ejecución local del cálculo completada. Los datos de entrada y salida están en S3.\")"
   ]
  }
 ],
 "metadata": {
  "kernelspec": {
   "display_name": "awsenv",
   "language": "python",
   "name": "python3"
  },
  "language_info": {
   "codemirror_mode": {
    "name": "ipython",
    "version": 3
   },
   "file_extension": ".py",
   "mimetype": "text/x-python",
   "name": "python",
   "nbconvert_exporter": "python",
   "pygments_lexer": "ipython3",
   "version": "3.11.4"
  }
 },
 "nbformat": 4,
 "nbformat_minor": 2
}
